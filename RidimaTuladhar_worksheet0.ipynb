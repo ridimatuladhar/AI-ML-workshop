{
  "nbformat": 4,
  "nbformat_minor": 0,
  "metadata": {
    "colab": {
      "provenance": []
    },
    "kernelspec": {
      "name": "python3",
      "display_name": "Python 3"
    },
    "language_info": {
      "name": "python"
    }
  },
  "cells": [
    {
      "cell_type": "markdown",
      "source": [
        "###Exercise on Functions:"
      ],
      "metadata": {
        "id": "8jXCfsR2whl2"
      }
    },
    {
      "cell_type": "markdown",
      "source": [
        "1. Create a Python program that converts between different units of measurement."
      ],
      "metadata": {
        "id": "tVA9OIjqyg--"
      }
    },
    {
      "cell_type": "code",
      "execution_count": 2,
      "metadata": {
        "colab": {
          "base_uri": "https://localhost:8080/"
        },
        "id": "M8gyoG4gwb-X",
        "outputId": "e342054e-5826-4163-e11f-d17497832779"
      },
      "outputs": [
        {
          "output_type": "stream",
          "name": "stdout",
          "text": [
            "Welcome to the Unit Converter!\n",
            "Choose the type of conversion:\n",
            "1. Length (m to ft, ft to m)\n",
            "2. Weight (kg to lbs, lbs to kg)\n",
            "3. Volume (L to gal, gal to L)\n",
            "Enter the number corresponding to your choice: 2\n",
            "Enter the value to be converted: 7\n",
            "Enter the unit to convert from (kg or lbs): kg\n",
            "Enter the unit to convert to (kg or lbs): lbs\n",
            "7.0 kg is equal to 15.432339999999998 lbs\n"
          ]
        }
      ],
      "source": [
        "def convert_length(value, unit_from, unit_to):\n",
        "    \"\"\"Converts between meters and feet.\n",
        "\n",
        "    value (float): The value to be converted.\n",
        "    unit_from (str): The unit to convert from ('m' or 'ft').\n",
        "    unit_to (str): The unit to convert to ('m' or 'ft').\n",
        "\n",
        "    Returns:\n",
        "    float: The converted value.\n",
        "    \"\"\"\n",
        "    if unit_from == 'm' and unit_to == 'ft':\n",
        "        return value * 3.28084  # Convert meters to feet\n",
        "    elif unit_from == 'ft' and unit_to == 'm':\n",
        "        return value / 3.28084  # Convert feet to meters\n",
        "    else:\n",
        "        raise ValueError(\"Unsupported units for length conversion.\")\n",
        "\n",
        "def convert_weight(value, unit_from, unit_to):\n",
        "    \"\"\"Converts between kilograms and pounds.\n",
        "\n",
        "    value (float): The value to be converted.\n",
        "    unit_from (str): The unit to convert from ('kg' or 'lbs').\n",
        "    unit_to (str): The unit to convert to ('kg' or 'lbs').\n",
        "\n",
        "    Returns:\n",
        "    float: The converted value.\n",
        "    \"\"\"\n",
        "    if unit_from == 'kg' and unit_to == 'lbs':\n",
        "        return value * 2.20462  # Convert kilograms to pounds\n",
        "    elif unit_from == 'lbs' and unit_to == 'kg':\n",
        "        return value / 2.20462  # Convert pounds to kilograms\n",
        "    else:\n",
        "        raise ValueError(\"Unsupported units for weight conversion.\")\n",
        "\n",
        "def convert_volume(value, unit_from, unit_to):\n",
        "    \"\"\"Converts between liters and gallons.\n",
        "\n",
        "    value (float): The value to be converted.\n",
        "    unit_from (str): The unit to convert from ('L' or 'gal').\n",
        "    unit_to (str): The unit to convert to ('L' or 'gal').\n",
        "\n",
        "    Returns:\n",
        "    float: The converted value.\n",
        "    \"\"\"\n",
        "    if unit_from == 'L' and unit_to == 'gal':\n",
        "        return value * 0.264172  # Convert liters to gallons\n",
        "    elif unit_from == 'gal' and unit_to == 'L':\n",
        "        return value / 0.264172  # Convert gallons to liters\n",
        "    else:\n",
        "        raise ValueError(\"Unsupported units for volume conversion.\")\n",
        "\n",
        "def main():\n",
        "    print(\"Welcome to the Unit Converter!\")\n",
        "    print(\"Choose the type of conversion:\")\n",
        "    print(\"1. Length (m to ft, ft to m)\")\n",
        "    print(\"2. Weight (kg to lbs, lbs to kg)\")\n",
        "    print(\"3. Volume (L to gal, gal to L)\")\n",
        "\n",
        "    try:\n",
        "        choice = int(input(\"Enter the number corresponding to your choice: \"))\n",
        "\n",
        "        if choice not in [1, 2, 3]:\n",
        "            raise ValueError(\"Invalid choice. Please choose 1, 2, or 3.\")\n",
        "\n",
        "        value = float(input(\"Enter the value to be converted: \"))\n",
        "\n",
        "        if choice == 1:\n",
        "            unit_from = input(\"Enter the unit to convert from (m or ft): \").strip().lower()\n",
        "            unit_to = input(\"Enter the unit to convert to (m or ft): \").strip().lower()\n",
        "            result = convert_length(value, unit_from, unit_to)\n",
        "            print(f\"{value} {unit_from} is equal to {result} {unit_to}\")\n",
        "\n",
        "        elif choice == 2:\n",
        "            unit_from = input(\"Enter the unit to convert from (kg or lbs): \").strip().lower()\n",
        "            unit_to = input(\"Enter the unit to convert to (kg or lbs): \").strip().lower()\n",
        "            result = convert_weight(value, unit_from, unit_to)\n",
        "            print(f\"{value} {unit_from} is equal to {result} {unit_to}\")\n",
        "\n",
        "        elif choice == 3:\n",
        "            unit_from = input(\"Enter the unit to convert from (L or gal): \").strip().lower()\n",
        "            unit_to = input(\"Enter the unit to convert to (L or gal): \").strip().lower()\n",
        "            result = convert_volume(value, unit_from, unit_to)\n",
        "            print(f\"{value} {unit_from} is equal to {result} {unit_to}\")\n",
        "\n",
        "    except ValueError as e:\n",
        "        print(f\"Error: {e}\")\n",
        "    except Exception as e:\n",
        "        print(f\"An unexpected error occurred: {e}\")\n",
        "\n",
        "if __name__ == \"__main__\":\n",
        "    main()\n"
      ]
    },
    {
      "cell_type": "markdown",
      "source": [
        "2. Create a Python program that performs various mathematical operations on a list of numbers."
      ],
      "metadata": {
        "id": "mKxfFycw2RNy"
      }
    },
    {
      "cell_type": "code",
      "source": [
        "def find_sum(numbers):\n",
        "    \"\"\"Calculates the sum of a list of numbers.\n",
        "\n",
        "    numbers (list): A list of numeric values.\n",
        "\n",
        "    Returns:\n",
        "    float: The sum of the numbers in the list.\n",
        "    \"\"\"\n",
        "    return sum(numbers)\n",
        "\n",
        "def find_average(numbers):\n",
        "    \"\"\"Calculates the average of a list of numbers.\n",
        "\n",
        "    numbers (list): A list of numeric values.\n",
        "\n",
        "    Returns:\n",
        "    float: The average of the numbers in the list.\n",
        "    \"\"\"\n",
        "    return sum(numbers) / len(numbers)\n",
        "\n",
        "def find_maximum(numbers):\n",
        "    \"\"\"Finds the maximum value in a list of numbers.\n",
        "\n",
        "    numbers (list): A list of numeric values.\n",
        "\n",
        "    Returns:\n",
        "    float: The maximum value in the list.\n",
        "    \"\"\"\n",
        "    return max(numbers)\n",
        "\n",
        "def find_minimum(numbers):\n",
        "    \"\"\"Finds the minimum value in a list of numbers.\n",
        "\n",
        "    numbers (list): A list of numeric values.\n",
        "\n",
        "    Returns:\n",
        "    float: The minimum value in the list.\n",
        "    \"\"\"\n",
        "    return min(numbers)\n",
        "\n",
        "def main():\n",
        "    print(\"Welcome to the Mathematical Operations Program!\")\n",
        "    print(\"Choose the operation you want to perform:\")\n",
        "    print(\"1. Sum of numbers\")\n",
        "    print(\"2. Average of numbers\")\n",
        "    print(\"3. Maximum of numbers\")\n",
        "    print(\"4. Minimum of numbers\")\n",
        "\n",
        "    try:\n",
        "        choice = int(input(\"Enter the number corresponding to your choice: \"))\n",
        "\n",
        "        if choice not in [1, 2, 3, 4]:\n",
        "            raise ValueError(\"Invalid choice. Please select a valid option (1-4).\")\n",
        "\n",
        "        numbers_input = input(\"Enter a list of numbers separated by spaces: \")\n",
        "        # Convert the input string to a list of numbers\n",
        "        numbers = [float(num) for num in numbers_input.split()]\n",
        "\n",
        "        if not numbers:\n",
        "            raise ValueError(\"The list of numbers cannot be empty.\")\n",
        "\n",
        "        if choice == 1:\n",
        "            result = find_sum(numbers)\n",
        "            print(f\"The sum of the numbers is: {result}\")\n",
        "        elif choice == 2:\n",
        "            result = find_average(numbers)\n",
        "            print(f\"The average of the numbers is: {result}\")\n",
        "        elif choice == 3:\n",
        "            result = find_maximum(numbers)\n",
        "            print(f\"The maximum value is: {result}\")\n",
        "        elif choice == 4:\n",
        "            result = find_minimum(numbers)\n",
        "            print(f\"The minimum value is: {result}\")\n",
        "\n",
        "    except ValueError as e:\n",
        "        print(f\"Error: {e}\")\n",
        "    except Exception as e:\n",
        "        print(f\"An unexpected error occurred: {e}\")\n",
        "\n",
        "if __name__ == \"__main__\":\n",
        "    main()\n"
      ],
      "metadata": {
        "colab": {
          "base_uri": "https://localhost:8080/"
        },
        "id": "WptLc7Kq0t2J",
        "outputId": "3d4e5586-d9d6-4c2b-bd2c-ad6511a687cc"
      },
      "execution_count": 3,
      "outputs": [
        {
          "output_type": "stream",
          "name": "stdout",
          "text": [
            "Welcome to the Mathematical Operations Program!\n",
            "Choose the operation you want to perform:\n",
            "1. Sum of numbers\n",
            "2. Average of numbers\n",
            "3. Maximum of numbers\n",
            "4. Minimum of numbers\n",
            "Enter the number corresponding to your choice: 3\n",
            "Enter a list of numbers separated by spaces: 29 10 33 11 2\n",
            "The maximum value is: 33.0\n"
          ]
        }
      ]
    },
    {
      "cell_type": "markdown",
      "source": [
        "###Exercise on List Manipulation:"
      ],
      "metadata": {
        "id": "sNaopcum2Wmj"
      }
    },
    {
      "cell_type": "markdown",
      "source": [
        "1. Extract Every Other Element:\n",
        "Write a Python function that extracts every other element from a list, starting from the first element."
      ],
      "metadata": {
        "id": "rG0KOqCk2e_W"
      }
    },
    {
      "cell_type": "code",
      "source": [
        "def extract_every_other(lst):\n",
        "    \"\"\"Extracts every other element from the input list, starting from the first element.\n",
        "\n",
        "    lst (list): A list of elements.\n",
        "\n",
        "    Returns:\n",
        "    list: A new list containing every other element from the original list.\n",
        "    \"\"\"\n",
        "    return lst[::2]  # This slices the list starting from index 0 and takes every second element\n",
        "\n",
        "# Taking input from the user\n",
        "user_input = input(\"Enter a list of numbers separated by spaces: \")\n",
        "\n",
        "# Convert the input string to a list of integers\n",
        "input_list = [int(item) for item in user_input.split()]\n",
        "\n",
        "# Extract every other element from the list\n",
        "output_list = extract_every_other(input_list)\n",
        "print(\"The extracted list with every other element is:\", output_list)\n"
      ],
      "metadata": {
        "colab": {
          "base_uri": "https://localhost:8080/"
        },
        "id": "EbATswIF1tlk",
        "outputId": "7e1d37c6-6f43-4789-ca02-1dff1245a1c4"
      },
      "execution_count": 4,
      "outputs": [
        {
          "output_type": "stream",
          "name": "stdout",
          "text": [
            "Enter a list of numbers separated by spaces: 3 8 9 1 2\n",
            "The extracted list with every other element is: [3, 9, 2]\n"
          ]
        }
      ]
    },
    {
      "cell_type": "markdown",
      "source": [
        "2. Slice a Sublist:\n",
        "Write a Python function that returns a sublist from a given list, starting from a specified index and\n",
        "ending at another specified index."
      ],
      "metadata": {
        "id": "FXpHqP2a373D"
      }
    },
    {
      "cell_type": "code",
      "source": [
        "def get_sublist(lst, start, end):\n",
        "    \"\"\"\n",
        "    Returns a sublist from the given list, starting from index 'start' to 'end' (inclusive).\n",
        "\n",
        "    :param lst: List from which to extract the sublist\n",
        "    :param start: Starting index (inclusive)\n",
        "    :param end: Ending index (inclusive)\n",
        "    :return: Sublist from start to end\n",
        "    \"\"\"\n",
        "    return lst[start:end+1]\n",
        "\n",
        "lst = list(map(int, input(\"Enter the list elements separated by space: \").split()))\n",
        "start = int(input(\"Enter the starting index: \"))\n",
        "end = int(input(\"Enter the ending index: \"))\n",
        "print(\"Sublist:\", get_sublist(lst, start, end))\n"
      ],
      "metadata": {
        "colab": {
          "base_uri": "https://localhost:8080/"
        },
        "id": "IwMjqVy13_vE",
        "outputId": "6443ef90-7bd8-407a-84e6-4c153a0d64c1"
      },
      "execution_count": 1,
      "outputs": [
        {
          "output_type": "stream",
          "name": "stdout",
          "text": [
            "Enter the list elements separated by space: 3 6 12 11 13\n",
            "Enter the starting index: 3\n",
            "Enter the ending index: 4\n",
            "Sublist: [11, 13]\n"
          ]
        }
      ]
    },
    {
      "cell_type": "markdown",
      "source": [
        "3. Reverse a List Using Slicing:\n",
        "Write a Python function that reverses a list using slicing."
      ],
      "metadata": {
        "id": "NSxNym8bEzZT"
      }
    },
    {
      "cell_type": "code",
      "source": [
        "def reverse_list(lst):\n",
        "    \"\"\"Reverses a given list using slicing.\n",
        "\n",
        "    lst (list): The list to be reversed.\n",
        "\n",
        "    Returns:\n",
        "    list: A new list that is the reverse of the original list.\n",
        "    \"\"\"\n",
        "    return lst[::-1]  # Slicing with step -1 reverses the list\n",
        "\n",
        "\n",
        "user_input = input(\"Enter a list of numbers separated by spaces: \")\n",
        "# Convert the input string to a list of integers\n",
        "input_list = [int(item) for item in user_input.split()]\n",
        "\n",
        "# Reverse the list\n",
        "output_list = reverse_list(input_list)\n",
        "print(\"The reversed list is:\", output_list)\n"
      ],
      "metadata": {
        "colab": {
          "base_uri": "https://localhost:8080/"
        },
        "id": "1g_XDbuHEv8k",
        "outputId": "86cf0184-8b6b-4abc-9627-55c884176954"
      },
      "execution_count": 2,
      "outputs": [
        {
          "output_type": "stream",
          "name": "stdout",
          "text": [
            "Enter a list of numbers separated by spaces: 3 4 12 22 11 21\n",
            "The reversed list is: [21, 11, 22, 12, 4, 3]\n"
          ]
        }
      ]
    },
    {
      "cell_type": "markdown",
      "source": [
        "4. Remove the First and Last Elements:\n",
        "Write a Python function that removes the first and last elements of a list and returns the resulting\n",
        "sublist."
      ],
      "metadata": {
        "id": "KxccE5JqF3m5"
      }
    },
    {
      "cell_type": "code",
      "source": [
        "def remove_first_last(lst):\n",
        "    \"\"\"Removes the first and last elements from a given list.\n",
        "\n",
        "    lst (list): The original list.\n",
        "\n",
        "    Returns:\n",
        "    list: A new list without the first and last elements.\n",
        "    \"\"\"\n",
        "    return lst[1:-1]  # Slicing from index 1 to second last index removes the first and last elements\n",
        "user_input = input(\"Enter a list of numbers separated by spaces: \")\n",
        "\n",
        "# Convert the input string to a list of integers\n",
        "input_list = [int(item) for item in user_input.split()]\n",
        "if len(input_list) < 2:\n",
        "    print(\"The list must have at least two elements to remove the first and last ones.\")\n",
        "else:\n",
        "    output_list = remove_first_last(input_list)\n",
        "    print(\"The list after removing the first and last elements:\", output_list)\n"
      ],
      "metadata": {
        "colab": {
          "base_uri": "https://localhost:8080/"
        },
        "id": "zebp6CYBGAex",
        "outputId": "f1c169e7-087c-4c51-9037-9a6ceb636ca1"
      },
      "execution_count": 3,
      "outputs": [
        {
          "output_type": "stream",
          "name": "stdout",
          "text": [
            "Enter a list of numbers separated by spaces: 33 21 71 12 55\n",
            "The list after removing the first and last elements: [21, 71, 12]\n"
          ]
        }
      ]
    },
    {
      "cell_type": "markdown",
      "source": [
        "5. Get the First n Elements:\n",
        "Write a Python function that extracts the first n elements from a list."
      ],
      "metadata": {
        "id": "iYmRtOI6Gh-x"
      }
    },
    {
      "cell_type": "code",
      "source": [
        "def get_first_n(lst, n):\n",
        "    \"\"\"Extracts the first n elements from a given list.\n",
        "\n",
        "    lst (list): The original list.\n",
        "    n (int): The number of elements to extract.\n",
        "\n",
        "    Returns:\n",
        "    list: A new list containing the first n elements.\n",
        "    \"\"\"\n",
        "    return lst[:n]  # Slicing from the start up to index n (exclusive)\n",
        "\n",
        "user_input = input(\"Enter a list of numbers separated by spaces: \")\n",
        "n = int(input(\"Enter the number of elements to extract: \"))\n",
        "\n",
        "# Convert the input string to a list of integers\n",
        "input_list = [int(item) for item in user_input.split()]\n",
        "\n",
        "# Check if n is within valid range\n",
        "if n < 0:\n",
        "    print(\"Please enter a positive number for n.\")\n",
        "elif n > len(input_list):\n",
        "    print(\"n is larger than the list size. Returning the whole list:\", input_list)\n",
        "else:\n",
        "    # Get the first n elements\n",
        "    output_list = get_first_n(input_list, n)\n",
        "    print(f\"The first {n} elements are:\", output_list)\n"
      ],
      "metadata": {
        "colab": {
          "base_uri": "https://localhost:8080/"
        },
        "id": "88k5FBWJGlns",
        "outputId": "ba206754-c35f-4b42-8a9b-9a373d18bee4"
      },
      "execution_count": 4,
      "outputs": [
        {
          "output_type": "stream",
          "name": "stdout",
          "text": [
            "Enter a list of numbers separated by spaces: 33 21 11 24 55 76 7\n",
            "Enter the number of elements to extract: 3\n",
            "The first 3 elements are: [33, 21, 11]\n"
          ]
        }
      ]
    },
    {
      "cell_type": "markdown",
      "source": [
        "6. Extract Elements from the End:\n",
        "Write a Python function that extracts the last n elements of a list using slicing."
      ],
      "metadata": {
        "id": "vjBgggKGHfc7"
      }
    },
    {
      "cell_type": "code",
      "source": [
        "def get_last_n(lst, n):\n",
        "    \"\"\"Extracts the last n elements from a given list.\n",
        "\n",
        "    lst (list): The original list.\n",
        "    n (int): The number of elements to extract from the end.\n",
        "\n",
        "    Returns:\n",
        "    list: A new list containing the last n elements.\n",
        "    \"\"\"\n",
        "    return lst[-n:]  # Slicing from the last n elements\n",
        "\n",
        "user_input = input(\"Enter a list of numbers separated by spaces: \")\n",
        "n = int(input(\"Enter the number of elements to extract from the end: \"))\n",
        "\n",
        "# Convert the input string to a list of integers\n",
        "input_list = [int(item) for item in user_input.split()]\n",
        "\n",
        "# Check if n is within valid range\n",
        "if n < 0:\n",
        "    print(\"Please enter a positive number for n.\")\n",
        "elif n > len(input_list):\n",
        "    print(\"n is larger than the list size. Returning the whole list:\", input_list)\n",
        "else:\n",
        "    # Get the last n elements\n",
        "    output_list = get_last_n(input_list, n)\n",
        "    print(f\"The last {n} elements are:\", output_list)\n"
      ],
      "metadata": {
        "colab": {
          "base_uri": "https://localhost:8080/"
        },
        "id": "5RTxhhX0Hf5Q",
        "outputId": "4df9ea26-a7ec-4f2d-dd61-d51571b4e645"
      },
      "execution_count": 5,
      "outputs": [
        {
          "output_type": "stream",
          "name": "stdout",
          "text": [
            "Enter a list of numbers separated by spaces: 32 22 1 2 32 1 5 \n",
            "Enter the number of elements to extract from the end: 5\n",
            "The last 5 elements are: [1, 2, 32, 1, 5]\n"
          ]
        }
      ]
    },
    {
      "cell_type": "markdown",
      "source": [
        "7. Extract Elements in Reverse Order:\n",
        "Write a Python function that extracts a list of elements in reverse order starting from the second-to-last\n",
        "element and skipping one element in between."
      ],
      "metadata": {
        "id": "R0ioRVhJIJ2t"
      }
    },
    {
      "cell_type": "code",
      "source": [
        "def reverse_skip(lst):\n",
        "    \"\"\"Extracts every second element in reverse order, starting from the second-to-last element.\n",
        "\n",
        "    lst (list): The original list.\n",
        "\n",
        "    Returns:\n",
        "    list: A new list containing every second element in reverse order.\n",
        "    \"\"\"\n",
        "    return lst[-2::-2]  # Start from second-to-last, move backward skipping one element\n",
        "user_input = input(\"Enter a list of numbers separated by spaces: \")\n",
        "\n",
        "# Convert the input string to a list of integers\n",
        "input_list = [int(item) for item in user_input.split()]\n",
        "\n",
        "# Get the transformed list\n",
        "output_list = reverse_skip(input_list)\n",
        "print(\"In reverse order (skipping one):\", output_list)\n"
      ],
      "metadata": {
        "colab": {
          "base_uri": "https://localhost:8080/"
        },
        "id": "lKVYzHwaIK7h",
        "outputId": "5178e681-5934-42a0-b6ac-8ec04e2a9ef0"
      },
      "execution_count": 7,
      "outputs": [
        {
          "output_type": "stream",
          "name": "stdout",
          "text": [
            "Enter a list of numbers separated by spaces: 22 32 12 1 4 5 21 77 8\n",
            "In reverse order (skipping one): [77, 5, 1, 32]\n"
          ]
        }
      ]
    },
    {
      "cell_type": "markdown",
      "source": [
        "###Exercise on Nested List:"
      ],
      "metadata": {
        "id": "PM11ebt8IWzX"
      }
    },
    {
      "cell_type": "markdown",
      "source": [
        "1. Flatten a Nested List:\n",
        "Write a Python function that takes a nested list and flattens it into a single list, where all the elements\n",
        "are in a single dimension."
      ],
      "metadata": {
        "id": "idzv44-0IXxJ"
      }
    },
    {
      "cell_type": "code",
      "source": [
        "def flatten(lst):\n",
        "    \"\"\"Flattens a nested list into a single list.\n",
        "    lst (list): A nested list containing sublists.\n",
        "\n",
        "    Returns:\n",
        "    list: A flattened list with all elements in a single dimension.\n",
        "    \"\"\"\n",
        "    flat_list = []  # Initialize an empty list\n",
        "    for sublist in lst:\n",
        "        flat_list.extend(sublist)  # Extend the flat_list with elements from sublists\n",
        "    return flat_list\n",
        "user_input = input(\"Enter a nested list (e.g., [[1,2], [3,4]]): \")\n",
        "\n",
        "# Convert the user input into a nested list safely using eval\n",
        "try:\n",
        "    nested_list = eval(user_input)  # Convert string input to a list\n",
        "    if isinstance(nested_list, list):  # Ensure it's a valid list\n",
        "        output_list = flatten(nested_list)\n",
        "        print(\"Flattened list:\", output_list)\n",
        "    else:\n",
        "        print(\"Invalid input! Please enter a nested list.\")\n",
        "except:\n",
        "    print(\"Invalid input! Please enter a valid nested list format.\")\n"
      ],
      "metadata": {
        "colab": {
          "base_uri": "https://localhost:8080/"
        },
        "id": "9XUUux1AI3M9",
        "outputId": "39c00404-ce17-45c8-d687-d2c858588edb"
      },
      "execution_count": 8,
      "outputs": [
        {
          "output_type": "stream",
          "name": "stdout",
          "text": [
            "Enter a nested list (e.g., [[1,2], [3,4]]): [[3,2], [5], [6,7]]\n",
            "Flattened list: [3, 2, 5, 6, 7]\n"
          ]
        }
      ]
    },
    {
      "cell_type": "markdown",
      "source": [
        "2. Accessing Nested List Elements:\n",
        "Write a Python function that extracts a specific element from a nested list given its indices."
      ],
      "metadata": {
        "id": "l1u3XyUkJUpj"
      }
    },
    {
      "cell_type": "code",
      "source": [
        "def access_nested_element(lst, indices):\n",
        "    \"\"\"Extracts a specific element from a nested list given its indices.\n",
        "\n",
        "    lst (list): The nested list from which the element is to be accessed.\n",
        "    indices (list): A list of indices specifying the position of the element.\n",
        "\n",
        "    Returns:\n",
        "    element: The element located at the specified indices in the nested list.\n",
        "    \"\"\"\n",
        "    element = lst\n",
        "    for index in indices:\n",
        "        element = element[index]  # Navigate through the list using the indices\n",
        "    return element\n",
        "\n",
        "# Taking user input for the nested list\n",
        "user_input = input(\"Enter a nested list (e.g., [[1, 2], [3, 4]]): \")\n",
        "\n",
        "# Convert the input string into a list using eval\n",
        "try:\n",
        "    nested_list = eval(user_input)  # Convert string input to a list\n",
        "    if isinstance(nested_list, list):\n",
        "        # Taking input for the list of indices\n",
        "        indices_input = input(\"Enter a list of indices (e.g., [0, 1]): \")\n",
        "        indices = [int(i) for i in indices_input.strip('[]').split(',')]\n",
        "\n",
        "        # Call the function to extract the element\n",
        "        output_element = access_nested_element(nested_list, indices)\n",
        "        print(f\"The element at the specified indices {indices} is:\", output_element)\n",
        "    else:\n",
        "        print(\"The input is not a valid nested list.\")\n",
        "except Exception as e:\n",
        "    print(\"Invalid input! Please ensure the format is correct.\")\n",
        "    print(\"Error:\", e)\n"
      ],
      "metadata": {
        "colab": {
          "base_uri": "https://localhost:8080/"
        },
        "id": "ezV3_KncJYI3",
        "outputId": "caff8666-bd56-4640-9cfc-d6aade5b6af0"
      },
      "execution_count": 11,
      "outputs": [
        {
          "output_type": "stream",
          "name": "stdout",
          "text": [
            "Enter a nested list (e.g., [[1, 2], [3, 4]]): [[3,2], [5], [6,7]]\n",
            "Enter a list of indices (e.g., [0, 1]): [0,1]\n",
            "The element at the specified indices [0, 1] is: 2\n"
          ]
        }
      ]
    },
    {
      "cell_type": "markdown",
      "source": [
        "3. Sum of All Elements in a Nested List:\n",
        "Write a Python function that calculates the sum of all the numbers in a nested list (regardless of depth)."
      ],
      "metadata": {
        "id": "TEjlzMKQKh0V"
      }
    },
    {
      "cell_type": "code",
      "source": [
        "def sum_nested(lst):\n",
        "    \"\"\"Calculates the sum of all elements in a nested list, regardless of depth.\n",
        "\n",
        "    lst (list): The nested list.\n",
        "\n",
        "    Returns:\n",
        "    int: The sum of all elements in the list.\n",
        "    \"\"\"\n",
        "    total = 0\n",
        "    for item in lst:\n",
        "        if isinstance(item, list):  # If the item is a sublist, recursively sum it\n",
        "            total += sum_nested(item)\n",
        "        else:\n",
        "            total += item  # If it's a number, add it to the total\n",
        "    return total\n",
        "user_input = input(\"Enter a nested list (e.g., [[1, 2], [3, [4, 5]], 6]): \")\n",
        "try:\n",
        "    nested_list = eval(user_input)  # Convert string input to a list\n",
        "    if isinstance(nested_list, list):\n",
        "        # Call the function to sum the elements\n",
        "        result = sum_nested(nested_list)\n",
        "        print(f\"The sum of all elements in the nested list is: {result}\")\n",
        "    else:\n",
        "        print(\"The input is not a valid nested list.\")\n",
        "except Exception as e:\n",
        "    print(\"Invalid input! Please ensure the format is correct.\")\n",
        "    print(\"Error:\", e)\n"
      ],
      "metadata": {
        "colab": {
          "base_uri": "https://localhost:8080/"
        },
        "id": "mH9hqWFVKink",
        "outputId": "9d43061d-2e0e-4d74-babf-c65e5e9c3a27"
      },
      "execution_count": 13,
      "outputs": [
        {
          "output_type": "stream",
          "name": "stdout",
          "text": [
            "Enter a nested list (e.g., [[1, 2], [3, [4, 5]], 6]): [[9, 2], [4, [2, 5]], 8]\n",
            "The sum of all elements in the nested list is: 30\n"
          ]
        }
      ]
    },
    {
      "cell_type": "markdown",
      "source": [
        "4. Remove Specific Element from a Nested List:\n",
        "Write a Python function that removes all occurrences of a specific element from a nested list."
      ],
      "metadata": {
        "id": "BZ2GPVN_LSLO"
      }
    },
    {
      "cell_type": "code",
      "source": [
        "def remove_element(lst, elem):\n",
        "    \"\"\"Removes all occurrences of a specific element from a nested list.\n",
        "\n",
        "    lst (list): The nested list from which the element is to be removed.\n",
        "    elem (any): The element to remove.\n",
        "\n",
        "    Returns:\n",
        "    list: A new list with all occurrences of elem removed.\n",
        "    \"\"\"\n",
        "    result = []\n",
        "    for item in lst:\n",
        "        if isinstance(item, list):  # If the item is a sublist, recursively remove the element\n",
        "            result.append(remove_element(item, elem))\n",
        "        else:\n",
        "            if item != elem:  # Only add the item if it is not equal to elem\n",
        "                result.append(item)\n",
        "    return result\n",
        "\n",
        "user_input = input(\"Enter a nested list: \")\n",
        "elem = input(\"Enter the element to remove: \")\n",
        "\n",
        "try:\n",
        "    # Convert the input string into a list using eval\n",
        "    nested_list = eval(user_input)\n",
        "    # Convert elem to its appropriate type (for example, integer or string)\n",
        "    elem = eval(elem)\n",
        "\n",
        "    if isinstance(nested_list, list):\n",
        "        # Call the function to remove the element\n",
        "        modified_list = remove_element(nested_list, elem)\n",
        "        print(f\"The modified list after removing {elem} is:\", modified_list)\n",
        "    else:\n",
        "        print(\"The input is not a valid nested list.\")\n",
        "except Exception as e:\n",
        "    print(\"Invalid input! Please ensure the format is correct.\")\n",
        "    print(\"Error:\", e)\n"
      ],
      "metadata": {
        "colab": {
          "base_uri": "https://localhost:8080/"
        },
        "id": "Yf3k2poNLdQX",
        "outputId": "487ba6ce-3780-4627-8f5f-22031bbcaa82"
      },
      "execution_count": 15,
      "outputs": [
        {
          "output_type": "stream",
          "name": "stdout",
          "text": [
            "Enter a nested list: [[9, 2], [4, [2, 5]], 8]\n",
            "Enter the element to remove: 2\n",
            "The modified list after removing 2 is: [[9], [4, [5]], 8]\n"
          ]
        }
      ]
    },
    {
      "cell_type": "markdown",
      "source": [
        "5. Find the Maximum Element in a Nested List:\n",
        "Write a Python function that finds the maximum element in a nested list (regardless of depth)."
      ],
      "metadata": {
        "id": "t1aOApQUL8m6"
      }
    },
    {
      "cell_type": "code",
      "source": [
        "def find_max(lst):\n",
        "    \"\"\"Finds the maximum element in a nested list, regardless of depth.\n",
        "\n",
        "    lst (list): The nested list from which to find the maximum element.\n",
        "\n",
        "    Returns:\n",
        "    int: The maximum element in the list.\n",
        "    \"\"\"\n",
        "    max_value = float('-inf')  # Initialize max_value to negative infinity\n",
        "    for item in lst:\n",
        "        if isinstance(item, list):  # If the item is a sublist, recursively find the max\n",
        "            max_value = max(max_value, find_max(item))\n",
        "        else:\n",
        "            max_value = max(max_value, item)  # Compare the current item with max_value\n",
        "    return max_value\n",
        "user_input = input(\"Enter a nested list: \")\n",
        "# Convert the input string into a list using eval\n",
        "try:\n",
        "    nested_list = eval(user_input)  # Convert string input to a list\n",
        "    if isinstance(nested_list, list):\n",
        "        # Call the function to find the maximum element\n",
        "        result = find_max(nested_list)\n",
        "        print(f\"The maximum element in the nested list is: {result}\")\n",
        "    else:\n",
        "        print(\"The input is not a valid nested list.\")\n",
        "except Exception as e:\n",
        "    print(\"Invalid input! Please ensure the format is correct.\")\n",
        "    print(\"Error:\", e)\n"
      ],
      "metadata": {
        "colab": {
          "base_uri": "https://localhost:8080/"
        },
        "id": "7DUV7vZJMEMd",
        "outputId": "7c8abacd-e303-4973-f59d-8e535ae2b808"
      },
      "execution_count": 17,
      "outputs": [
        {
          "output_type": "stream",
          "name": "stdout",
          "text": [
            "Enter a nested list: [[9, 2], [4, [2, 5]], 8]\n",
            "The maximum element in the nested list is: 9\n"
          ]
        }
      ]
    },
    {
      "cell_type": "markdown",
      "source": [
        "6. Count Occurrences of an Element in a Nested List:\n",
        "Write a Python function that counts how many times a specific element appears in a nested list."
      ],
      "metadata": {
        "id": "Cb215ZCqMhO8"
      }
    },
    {
      "cell_type": "code",
      "source": [
        "def count_occurrences(lst, elem):\n",
        "    \"\"\"Counts how many times a specific element appears in a nested list.\n",
        "\n",
        "    lst (list): The nested list to search through.\n",
        "    elem (any): The element whose occurrences we want to count.\n",
        "\n",
        "    Returns:\n",
        "    int: The count of occurrences of elem in the list.\n",
        "    \"\"\"\n",
        "    count = 0\n",
        "    for item in lst:\n",
        "        if isinstance(item, list):  # If the item is a sublist, recursively count occurrences\n",
        "            count += count_occurrences(item, elem)\n",
        "        else:\n",
        "            if item == elem:  # If the item matches the element, increase the count\n",
        "                count += 1\n",
        "    return count\n",
        "user_input = input(\"Enter a nested list: \")\n",
        "elem = input(\"Enter the element to count: \")\n",
        "\n",
        "try:\n",
        "    # Convert the input string into a list using eval\n",
        "    nested_list = eval(user_input)\n",
        "    # Convert elem to its appropriate type (e.g., integer or string)\n",
        "    elem = eval(elem)\n",
        "    if isinstance(nested_list, list):\n",
        "        # Call the function to count occurrences\n",
        "        occurrences = count_occurrences(nested_list, elem)\n",
        "        print(f\"The element {elem} appears {occurrences} times in the nested list.\")\n",
        "    else:\n",
        "        print(\"The input is not a valid nested list.\")\n",
        "except Exception as e:\n",
        "    print(\"Invalid input! Please ensure the format is correct.\")\n",
        "    print(\"Error:\", e)\n"
      ],
      "metadata": {
        "colab": {
          "base_uri": "https://localhost:8080/"
        },
        "id": "eYrSDa1oMh5J",
        "outputId": "1aba95fa-1821-48ad-e5b9-9cc38c3e95bc"
      },
      "execution_count": 19,
      "outputs": [
        {
          "output_type": "stream",
          "name": "stdout",
          "text": [
            "Enter a nested list: [[9, 2], [4, [2, 5]], 8]\n",
            "Enter the element to count: 2\n",
            "The element 2 appears 2 times in the nested list.\n"
          ]
        }
      ]
    },
    {
      "cell_type": "markdown",
      "source": [
        "7. Flatten a List of Lists of Lists:\n",
        "Write a Python function that flattens a list of lists of lists into a single list, regardless of the depth."
      ],
      "metadata": {
        "id": "9k4NunWrNYiz"
      }
    },
    {
      "cell_type": "code",
      "source": [
        "def deep_flatten(lst):\n",
        "    \"\"\"Flattens a deeply nested list into a single list, regardless of depth.\n",
        "\n",
        "    Args:\n",
        "    lst (list): The nested list to flatten.\n",
        "\n",
        "    Returns:\n",
        "    list: A flattened version of the nested list.\n",
        "    \"\"\"\n",
        "    flattened_list = []\n",
        "    for item in lst:\n",
        "        if isinstance(item, list):  # If the item is a list, recursively flatten it\n",
        "            flattened_list.extend(deep_flatten(item))\n",
        "        else:\n",
        "            flattened_list.append(item)  # If it's not a list, add it to the result\n",
        "    return flattened_list\n",
        "user_input = input(\"Enter a nested list: \")\n",
        "try:\n",
        "    # Convert the input string into a list using eval\n",
        "    nested_list = eval(user_input)\n",
        "\n",
        "    if isinstance(nested_list, list):\n",
        "        # Call the function to flatten the list\n",
        "        flattened = deep_flatten(nested_list)\n",
        "        print(f\"The flattened list is: {flattened}\")\n",
        "    else:\n",
        "        print(\"The input is not a valid list.\")\n",
        "except Exception as e:\n",
        "    print(\"Invalid input! Please ensure the format is correct.\")\n",
        "    print(\"Error:\", e)\n"
      ],
      "metadata": {
        "colab": {
          "base_uri": "https://localhost:8080/"
        },
        "id": "fm5KTPEZNeVJ",
        "outputId": "624f43cf-7df1-4a9a-c05e-5bbb60bb6fbd"
      },
      "execution_count": 22,
      "outputs": [
        {
          "output_type": "stream",
          "name": "stdout",
          "text": [
            "Enter a nested list: [[[2, 5], [3, 9]], [[11, 6], [7, 6]]]\n",
            "The flattened list is: [2, 5, 3, 9, 11, 6, 7, 6]\n"
          ]
        }
      ]
    },
    {
      "cell_type": "markdown",
      "source": [
        "8. Nested List Average:\n",
        "Write a Python function that calculates the average of all elements in a nested list."
      ],
      "metadata": {
        "id": "CY_jd3pxOAjs"
      }
    },
    {
      "cell_type": "code",
      "source": [
        "def average_nested(lst):\n",
        "    \"\"\"Calculates the average of all elements in a nested list, regardless of depth.\n",
        "\n",
        "    lst (list): The nested list whose elements' average is to be calculated.\n",
        "\n",
        "    Returns:\n",
        "    float: The average of all the elements in the list.\n",
        "    \"\"\"\n",
        "    # Flatten the list\n",
        "    def flatten(lst):\n",
        "        flattened_list = []\n",
        "        for item in lst:\n",
        "            if isinstance(item, list):  # If the item is a list, recursively flatten it\n",
        "                flattened_list.extend(flatten(item))\n",
        "            else:\n",
        "                flattened_list.append(item)  # If it's not a list, add it to the result\n",
        "        return flattened_list\n",
        "\n",
        "    # Flatten the nested list\n",
        "    flattened_lst = flatten(lst)\n",
        "\n",
        "    # Calculate the average\n",
        "    if len(flattened_lst) == 0:\n",
        "        return 0  # Avoid division by zero if the list is empty\n",
        "    return sum(flattened_lst) / len(flattened_lst)\n",
        "user_input = input(\"Enter a nested list:\")\n",
        "try:\n",
        "    # Convert the input string into a list using eval\n",
        "    nested_list = eval(user_input)\n",
        "\n",
        "    if isinstance(nested_list, list):\n",
        "        # Call the function to calculate the average\n",
        "        average = average_nested(nested_list)\n",
        "        print(f\"The average of all elements in the nested list is: {average}\")\n",
        "    else:\n",
        "        print(\"The input is not a valid nested list.\")\n",
        "except Exception as e:\n",
        "    print(\"Invalid input! Please ensure the format is correct.\")\n",
        "    print(\"Error:\", e)\n"
      ],
      "metadata": {
        "colab": {
          "base_uri": "https://localhost:8080/"
        },
        "id": "ZmD7e6m-OBUy",
        "outputId": "266ab70d-b940-48f7-cf69-4a1f1a7c82d4"
      },
      "execution_count": 24,
      "outputs": [
        {
          "output_type": "stream",
          "name": "stdout",
          "text": [
            "Enter a nested list:[[[2, 5], [3, 9]], [[11, 6], [7, 6]]]\n",
            "The average of all elements in the nested list is: 6.125\n"
          ]
        }
      ]
    },
    {
      "cell_type": "markdown",
      "source": [
        "###Basic Vector and Matrix Operation with Numpy."
      ],
      "metadata": {
        "id": "QKCPTEg3O5CA"
      }
    },
    {
      "cell_type": "markdown",
      "source": [
        "Problem - 1: Array Creation:"
      ],
      "metadata": {
        "id": "Xds-kXYePACe"
      }
    },
    {
      "cell_type": "code",
      "source": [
        "import numpy as np"
      ],
      "metadata": {
        "id": "0x05xx1APCzb"
      },
      "execution_count": 25,
      "outputs": []
    },
    {
      "cell_type": "code",
      "source": [
        "# 1. Initialize an empty array with size 2x2\n",
        "empty_array = np.empty((2, 2))\n",
        "print(\"1. Empty Array (2x2):\")\n",
        "print(empty_array)\n",
        "\n",
        "# 2. Initialize an all-one array with size 4x2\n",
        "ones_array = np.ones((4, 2))\n",
        "print(\"\\n2. All Ones Array (4x2):\")\n",
        "print(ones_array)\n",
        "\n",
        "# 3. Return a new array of given shape and type, filled with fill value\n",
        "fill_value_array = np.full((3, 3), 7)\n",
        "print(\"\\n3. Filled Array (3x3 filled with 7):\")\n",
        "print(fill_value_array)\n",
        "\n",
        "# 4. Return a new array of zeros with the same shape and type as a given array\n",
        "reference_array = np.array([[1, 2], [3, 4]])\n",
        "zeros_like_array = np.zeros_like(reference_array)\n",
        "print(\"\\n4. Zeros Like Array:\")\n",
        "print(zeros_like_array)\n",
        "\n",
        "# 5. Return a new array of ones with the same shape and type as a given array\n",
        "ones_like_array = np.ones_like(reference_array)\n",
        "print(\"\\n5. Ones Like Array:\")\n",
        "print(ones_like_array)\n",
        "\n",
        "# 6. For an existing list new_list = [1, 2, 3, 4], convert to a NumPy array\n",
        "new_list = [1, 2, 3, 4]\n",
        "numpy_array_from_list = np.array(new_list)\n",
        "print(\"\\n6. Converted List to NumPy Array:\")\n",
        "print(numpy_array_from_list)"
      ],
      "metadata": {
        "colab": {
          "base_uri": "https://localhost:8080/"
        },
        "id": "NVjxjMVnPWOi",
        "outputId": "45490129-b90e-4f94-e3d2-64aa33ef22a3"
      },
      "execution_count": 46,
      "outputs": [
        {
          "output_type": "stream",
          "name": "stdout",
          "text": [
            "1. Empty Array (2x2):\n",
            "[[2.5e-323 1.5e-323]\n",
            " [9.9e-324 4.9e-324]]\n",
            "\n",
            "2. All Ones Array (4x2):\n",
            "[[1. 1.]\n",
            " [1. 1.]\n",
            " [1. 1.]\n",
            " [1. 1.]]\n",
            "\n",
            "3. Filled Array (3x3 filled with 7):\n",
            "[[7 7 7]\n",
            " [7 7 7]\n",
            " [7 7 7]]\n",
            "\n",
            "4. Zeros Like Array:\n",
            "[[0 0]\n",
            " [0 0]]\n",
            "\n",
            "5. Ones Like Array:\n",
            "[[1 1]\n",
            " [1 1]]\n",
            "\n",
            "6. Converted List to NumPy Array:\n",
            "[1 2 3 4]\n"
          ]
        }
      ]
    },
    {
      "cell_type": "markdown",
      "source": [
        "Problem - 2: Array Manipulation: Numerical Ranges and Array indexing:"
      ],
      "metadata": {
        "id": "OaKMbs0iPevX"
      }
    },
    {
      "cell_type": "code",
      "source": [
        "# 1. Create an array with values ranging from 10 to 49\n",
        "array_1 = np.arange(10, 50)\n",
        "print(\"1. Array ranging from 10 to 49:\")\n",
        "print(array_1)\n",
        "\n",
        "# 2. Create a 3x3 matrix with values ranging from 0 to 8\n",
        "matrix_2 = np.arange(9).reshape(3, 3)\n",
        "print(\"\\n2. 3x3 Matrix ranging from 0 to 8:\")\n",
        "print(matrix_2)\n",
        "\n",
        "# 3. Create a 3x3 identity matrix\n",
        "identity_matrix_3 = np.eye(3)\n",
        "print(\"\\n3. 3x3 Identity Matrix:\")\n",
        "print(identity_matrix_3)\n",
        "\n",
        "# 4. Create a random array of size 30 and find the mean of the array\n",
        "random_array_4 = np.random.random(30)\n",
        "mean_random_array_4 = random_array_4.mean()\n",
        "print(\"\\n4. Random array of size 30 and its mean:\")\n",
        "print(random_array_4)\n",
        "print(f\"Mean of the random array: {mean_random_array_4}\")\n",
        "\n",
        "# 5. Create a 10x10 array with random values and find the minimum and maximum values\n",
        "random_array_5 = np.random.random((10, 10))\n",
        "min_value_5 = random_array_5.min()\n",
        "max_value_5 = random_array_5.max()\n",
        "print(\"\\n5. 10x10 random array and its minimum and maximum values:\")\n",
        "print(random_array_5)\n",
        "print(f\"Minimum value: {min_value_5}\")\n",
        "print(f\"Maximum value: {max_value_5}\")\n",
        "\n",
        "# 6. Create a zero array of size 10 and replace the 5th element with 1\n",
        "array_6 = np.zeros(10)\n",
        "array_6[4] = 1  # 5th element (index 4) is set to 1\n",
        "print(\"\\n6. Zero array of size 10 with the 5th element replaced by 1:\")\n",
        "print(array_6)\n",
        "\n",
        "# 7. Reverse an array arr = [1, 2, 0, 0, 4, 0]\n",
        "arr_7 = np.array([1, 2, 0, 0, 4, 0])\n",
        "reversed_arr_7 = arr_7[::-1]\n",
        "print(\"\\n7. Reversed array:\")\n",
        "print(reversed_arr_7)\n",
        "\n",
        "# 8. Create a 2D array with 1 on the border and 0 inside\n",
        "array_8 = np.ones((5, 5))\n",
        "array_8[1:-1, 1:-1] = 0\n",
        "print(\"\\n8. 2D array with 1 on border and 0 inside:\")\n",
        "print(array_8)\n",
        "\n",
        "# 9. Create a 8x8 matrix and fill it with a checkerboard pattern\n",
        "checkerboard_9 = np.zeros((8, 8))\n",
        "checkerboard_9[1::2, ::2] = 1\n",
        "checkerboard_9[::2, 1::2] = 1\n",
        "print(\"\\n9. 8x8 Checkerboard pattern:\")\n",
        "print(checkerboard_9)\n"
      ],
      "metadata": {
        "colab": {
          "base_uri": "https://localhost:8080/"
        },
        "id": "MSZ-Bh4zPhVE",
        "outputId": "cc7d1cf1-0176-4b64-a6aa-6badc2003f7e"
      },
      "execution_count": 27,
      "outputs": [
        {
          "output_type": "stream",
          "name": "stdout",
          "text": [
            "1. Array ranging from 10 to 49:\n",
            "[10 11 12 13 14 15 16 17 18 19 20 21 22 23 24 25 26 27 28 29 30 31 32 33\n",
            " 34 35 36 37 38 39 40 41 42 43 44 45 46 47 48 49]\n",
            "\n",
            "2. 3x3 Matrix ranging from 0 to 8:\n",
            "[[0 1 2]\n",
            " [3 4 5]\n",
            " [6 7 8]]\n",
            "\n",
            "3. 3x3 Identity Matrix:\n",
            "[[1. 0. 0.]\n",
            " [0. 1. 0.]\n",
            " [0. 0. 1.]]\n",
            "\n",
            "4. Random array of size 30 and its mean:\n",
            "[0.06676967 0.30027522 0.39421036 0.72778336 0.27370539 0.63857815\n",
            " 0.62906312 0.90953802 0.97037125 0.7259826  0.70268398 0.9262288\n",
            " 0.85367039 0.37050185 0.98562412 0.60392756 0.72684822 0.65954589\n",
            " 0.18260706 0.75659268 0.11429787 0.11617899 0.34794443 0.31931667\n",
            " 0.34554146 0.02071356 0.69554209 0.21456691 0.27016783 0.48676054]\n",
            "Mean of the random array: 0.5111846013947706\n",
            "\n",
            "5. 10x10 random array and its minimum and maximum values:\n",
            "[[0.48049222 0.16853155 0.10603148 0.96152705 0.18466225 0.67812205\n",
            "  0.71665871 0.84853942 0.13998437 0.94317844]\n",
            " [0.00895155 0.32298359 0.91967559 0.64670242 0.91773338 0.76061406\n",
            "  0.17847421 0.33243802 0.02351542 0.149921  ]\n",
            " [0.1784094  0.20829596 0.19253855 0.39786974 0.31738256 0.40329443\n",
            "  0.72443439 0.62185338 0.08734107 0.76114504]\n",
            " [0.40552932 0.28302058 0.84637606 0.30426787 0.36067088 0.89829288\n",
            "  0.58967999 0.14327484 0.74975005 0.76687528]\n",
            " [0.43406344 0.57873712 0.5939031  0.01999183 0.35134319 0.81773895\n",
            "  0.72146488 0.33271703 0.04099467 0.48177597]\n",
            " [0.4376969  0.05095999 0.82450881 0.68582227 0.76373699 0.45544529\n",
            "  0.56156749 0.42278207 0.14868813 0.15220395]\n",
            " [0.92892627 0.16123744 0.82377898 0.11617326 0.93511254 0.30705855\n",
            "  0.08884903 0.56534008 0.11622076 0.49743053]\n",
            " [0.51080312 0.02797825 0.98229973 0.30224749 0.86223614 0.6465085\n",
            "  0.67405143 0.25476258 0.43865855 0.05404656]\n",
            " [0.14469721 0.21446584 0.67981306 0.95131301 0.86156194 0.90809493\n",
            "  0.23600929 0.7409769  0.51967527 0.39150218]\n",
            " [0.34838736 0.80621929 0.36176954 0.27469414 0.3225634  0.17787593\n",
            "  0.2407159  0.45981795 0.24386479 0.72019813]]\n",
            "Minimum value: 0.008951548914473695\n",
            "Maximum value: 0.982299734403001\n",
            "\n",
            "6. Zero array of size 10 with the 5th element replaced by 1:\n",
            "[0. 0. 0. 0. 1. 0. 0. 0. 0. 0.]\n",
            "\n",
            "7. Reversed array:\n",
            "[0 4 0 0 2 1]\n",
            "\n",
            "8. 2D array with 1 on border and 0 inside:\n",
            "[[1. 1. 1. 1. 1.]\n",
            " [1. 0. 0. 0. 1.]\n",
            " [1. 0. 0. 0. 1.]\n",
            " [1. 0. 0. 0. 1.]\n",
            " [1. 1. 1. 1. 1.]]\n",
            "\n",
            "9. 8x8 Checkerboard pattern:\n",
            "[[0. 1. 0. 1. 0. 1. 0. 1.]\n",
            " [1. 0. 1. 0. 1. 0. 1. 0.]\n",
            " [0. 1. 0. 1. 0. 1. 0. 1.]\n",
            " [1. 0. 1. 0. 1. 0. 1. 0.]\n",
            " [0. 1. 0. 1. 0. 1. 0. 1.]\n",
            " [1. 0. 1. 0. 1. 0. 1. 0.]\n",
            " [0. 1. 0. 1. 0. 1. 0. 1.]\n",
            " [1. 0. 1. 0. 1. 0. 1. 0.]]\n"
          ]
        }
      ]
    },
    {
      "cell_type": "markdown",
      "source": [
        "Problem - 3: Array Operations:"
      ],
      "metadata": {
        "id": "QWnySKBIPzds"
      }
    },
    {
      "cell_type": "code",
      "source": [
        "x = np.array([[1, 2], [3, 5]])\n",
        "y = np.array([[5, 6], [7, 8]])\n",
        "v = np.array([9, 10])\n",
        "w = np.array([11, 12])\n",
        "\n",
        "# 1. Add the two arrays\n",
        "add_result = x + y\n",
        "print(\"1. Add the two arrays (x + y):\")\n",
        "print(add_result)\n",
        "\n",
        "# 2. Subtract the two arrays\n",
        "subtract_result = x - y\n",
        "print(\"\\n2. Subtract the two arrays (x - y):\")\n",
        "print(subtract_result)\n",
        "\n",
        "# 3. Multiply the array with any integers of your choice\n",
        "# Here, we multiply `x` by 2 and `y` by 3\n",
        "multiply_x = x * 2\n",
        "multiply_y = y * 3\n",
        "print(\"\\n3. Multiply x by 2 and y by 3:\")\n",
        "print(\"x multiplied by 2:\")\n",
        "print(multiply_x)\n",
        "print(\"y multiplied by 3:\")\n",
        "print(multiply_y)\n",
        "\n",
        "# 4. Find the square of each element of the array\n",
        "square_x = np.square(x)\n",
        "square_y = np.square(y)\n",
        "print(\"\\n4. Square of each element of the arrays x and y:\")\n",
        "print(\"x squared:\")\n",
        "print(square_x)\n",
        "print(\"y squared:\")\n",
        "print(square_y)\n",
        "\n",
        "# 5. Find the dot product between:\n",
        "# v and w; x and v; x and y\n",
        "\n",
        "dot_v_w = np.dot(v, w)\n",
        "dot_x_v = np.dot(x, v)\n",
        "dot_x_y = np.dot(x, y)\n",
        "\n",
        "print(\"\\n5. Dot product results:\")\n",
        "print(f\"Dot product between v and w: {dot_v_w}\")\n",
        "print(f\"Dot product between x and v: {dot_x_v}\")\n",
        "print(f\"Dot product between x and y: {dot_x_y}\")\n",
        "\n",
        "# 6. Concatenate x and y along rows (axis=0) and concatenate v and w along columns (axis=1)\n",
        "\n",
        "concat_x_y = np.concatenate((x, y), axis=0)  # Along rows\n",
        "concat_v_w = np.concatenate((v.reshape(-1, 1), w.reshape(-1, 1)), axis=1)  # Along columns\n",
        "\n",
        "print(\"\\n6. Concatenated arrays:\")\n",
        "print(f\"Concatenation of x and y along rows:\")\n",
        "print(concat_x_y)\n",
        "print(f\"Concatenation of v and w along columns:\")\n",
        "print(concat_v_w)"
      ],
      "metadata": {
        "colab": {
          "base_uri": "https://localhost:8080/"
        },
        "id": "1QZjaVJXP2aF",
        "outputId": "dccca408-7610-4bec-c67c-4edfa69fcb78"
      },
      "execution_count": 28,
      "outputs": [
        {
          "output_type": "stream",
          "name": "stdout",
          "text": [
            "1. Add the two arrays (x + y):\n",
            "[[ 6  8]\n",
            " [10 13]]\n",
            "\n",
            "2. Subtract the two arrays (x - y):\n",
            "[[-4 -4]\n",
            " [-4 -3]]\n",
            "\n",
            "3. Multiply x by 2 and y by 3:\n",
            "x multiplied by 2:\n",
            "[[ 2  4]\n",
            " [ 6 10]]\n",
            "y multiplied by 3:\n",
            "[[15 18]\n",
            " [21 24]]\n",
            "\n",
            "4. Square of each element of the arrays x and y:\n",
            "x squared:\n",
            "[[ 1  4]\n",
            " [ 9 25]]\n",
            "y squared:\n",
            "[[25 36]\n",
            " [49 64]]\n",
            "\n",
            "5. Dot product results:\n",
            "Dot product between v and w: 219\n",
            "Dot product between x and v: [29 77]\n",
            "Dot product between x and y: [[19 22]\n",
            " [50 58]]\n",
            "\n",
            "6. Concatenated arrays:\n",
            "Concatenation of x and y along rows:\n",
            "[[1 2]\n",
            " [3 5]\n",
            " [5 6]\n",
            " [7 8]]\n",
            "Concatenation of v and w along columns:\n",
            "[[ 9 11]\n",
            " [10 12]]\n"
          ]
        }
      ]
    },
    {
      "cell_type": "code",
      "source": [
        "# 7. Concatenate x and v\n",
        "concat_x_v = np.concatenate((x, v), axis=0)\n",
        "print(\"\\n7. Concatenation of x and v:\")\n",
        "print(concat_x_v)"
      ],
      "metadata": {
        "colab": {
          "base_uri": "https://localhost:8080/",
          "height": 211
        },
        "id": "J0jdPRaQQONW",
        "outputId": "c03b6cf9-9f06-4089-f27c-a6d7c1b684c9"
      },
      "execution_count": 29,
      "outputs": [
        {
          "output_type": "error",
          "ename": "ValueError",
          "evalue": "all the input arrays must have same number of dimensions, but the array at index 0 has 2 dimension(s) and the array at index 1 has 1 dimension(s)",
          "traceback": [
            "\u001b[0;31m---------------------------------------------------------------------------\u001b[0m",
            "\u001b[0;31mValueError\u001b[0m                                Traceback (most recent call last)",
            "\u001b[0;32m<ipython-input-29-15c7a02ac7bf>\u001b[0m in \u001b[0;36m<cell line: 0>\u001b[0;34m()\u001b[0m\n\u001b[1;32m      1\u001b[0m \u001b[0;31m# 7. Concatenate x and v\u001b[0m\u001b[0;34m\u001b[0m\u001b[0;34m\u001b[0m\u001b[0m\n\u001b[0;32m----> 2\u001b[0;31m \u001b[0mconcat_x_v\u001b[0m \u001b[0;34m=\u001b[0m \u001b[0mnp\u001b[0m\u001b[0;34m.\u001b[0m\u001b[0mconcatenate\u001b[0m\u001b[0;34m(\u001b[0m\u001b[0;34m(\u001b[0m\u001b[0mx\u001b[0m\u001b[0;34m,\u001b[0m \u001b[0mv\u001b[0m\u001b[0;34m)\u001b[0m\u001b[0;34m,\u001b[0m \u001b[0maxis\u001b[0m\u001b[0;34m=\u001b[0m\u001b[0;36m0\u001b[0m\u001b[0;34m)\u001b[0m\u001b[0;34m\u001b[0m\u001b[0;34m\u001b[0m\u001b[0m\n\u001b[0m\u001b[1;32m      3\u001b[0m \u001b[0mprint\u001b[0m\u001b[0;34m(\u001b[0m\u001b[0;34m\"\\n7. Concatenation of x and v:\"\u001b[0m\u001b[0;34m)\u001b[0m\u001b[0;34m\u001b[0m\u001b[0;34m\u001b[0m\u001b[0m\n\u001b[1;32m      4\u001b[0m \u001b[0mprint\u001b[0m\u001b[0;34m(\u001b[0m\u001b[0mconcat_x_v\u001b[0m\u001b[0;34m)\u001b[0m\u001b[0;34m\u001b[0m\u001b[0;34m\u001b[0m\u001b[0m\n",
            "\u001b[0;31mValueError\u001b[0m: all the input arrays must have same number of dimensions, but the array at index 0 has 2 dimension(s) and the array at index 1 has 1 dimension(s)"
          ]
        }
      ]
    },
    {
      "cell_type": "markdown",
      "source": [
        "The error happened because x is a 2D array (2x2 matrix) and v is a 1D array, and numpy requires the number of columns (shape[1]) to be the same for both arrays when concatenating along rows (axis=0)"
      ],
      "metadata": {
        "id": "3lqds7wnQdGi"
      }
    },
    {
      "cell_type": "markdown",
      "source": [
        "Problem - 4: Matrix Operations:"
      ],
      "metadata": {
        "id": "bazVH0r_QVcw"
      }
    },
    {
      "cell_type": "code",
      "source": [
        "#1. Prove A.A^−1 = I.\n",
        "# Define matrix A\n",
        "A = np.array([[3, 4], [7, 8]])\n",
        "\n",
        "# Calculate the inverse of A\n",
        "A_inv = np.linalg.inv(A)\n",
        "\n",
        "# Compute A * A_inv\n",
        "result_1 = np.dot(A, A_inv)\n",
        "\n",
        "# Print the result\n",
        "print(\"1. A * A^-1 = I:\")\n",
        "print(result_1)\n",
        "\n",
        "# Verify if result is an identity matrix (I)\n",
        "I = np.eye(2)  # Identity matrix of size 2x2\n",
        "print(\"\\nIdentity matrix I:\")\n",
        "print(I)"
      ],
      "metadata": {
        "colab": {
          "base_uri": "https://localhost:8080/"
        },
        "id": "R81rjvxeQYT7",
        "outputId": "9b87bee7-b450-4ce1-9fdf-c39b11670009"
      },
      "execution_count": 30,
      "outputs": [
        {
          "output_type": "stream",
          "name": "stdout",
          "text": [
            "1. A * A^-1 = I:\n",
            "[[1.00000000e+00 0.00000000e+00]\n",
            " [1.77635684e-15 1.00000000e+00]]\n",
            "\n",
            "Identity matrix I:\n",
            "[[1. 0.]\n",
            " [0. 1.]]\n"
          ]
        }
      ]
    },
    {
      "cell_type": "code",
      "source": [
        "#2. Prove AB ̸= BA.\n",
        "# Define matrix B\n",
        "B = np.array([[5, 3], [2, 1]])\n",
        "\n",
        "# Compute AB and BA\n",
        "AB = np.dot(A, B)\n",
        "BA = np.dot(B, A)\n",
        "\n",
        "print(\"\\n2. AB and BA:\")\n",
        "print(\"AB:\")\n",
        "print(AB)\n",
        "print(\"BA:\")\n",
        "print(BA)\n",
        "\n",
        "print(\"\\nIs AB equal to BA?\", np.array_equal(AB, BA))"
      ],
      "metadata": {
        "colab": {
          "base_uri": "https://localhost:8080/"
        },
        "id": "Ll8cC0mFRNS8",
        "outputId": "899814da-8f30-44b9-8841-ede9fe720dcd"
      },
      "execution_count": 33,
      "outputs": [
        {
          "output_type": "stream",
          "name": "stdout",
          "text": [
            "\n",
            "2. AB and BA:\n",
            "AB:\n",
            "[[23 13]\n",
            " [51 29]]\n",
            "BA:\n",
            "[[36 44]\n",
            " [13 16]]\n",
            "\n",
            "Is AB equal to BA? False\n"
          ]
        }
      ]
    },
    {
      "cell_type": "code",
      "source": [
        "#3. Prove (AB)^T = B^T A^T\n",
        "# Compute (AB)^T\n",
        "AB_T = np.transpose(AB)\n",
        "\n",
        "# Compute B^T * A^T\n",
        "B_T_A_T = np.dot(np.transpose(B), np.transpose(A))\n",
        "\n",
        "print(\"\\n3. (AB)^T = B^T * A^T:\")\n",
        "print(\"(AB)^T:\")\n",
        "print(AB_T)\n",
        "print(\"B^T * A^T:\")\n",
        "print(B_T_A_T)\n",
        "\n",
        "print(\"\\nIs (AB)^T equal to B^T * A^T?\", np.array_equal(AB_T, B_T_A_T))"
      ],
      "metadata": {
        "colab": {
          "base_uri": "https://localhost:8080/"
        },
        "id": "4xEpuNKHRWsp",
        "outputId": "82bc904d-a23b-4b81-c8a0-6e34fbe612cc"
      },
      "execution_count": 32,
      "outputs": [
        {
          "output_type": "stream",
          "name": "stdout",
          "text": [
            "\n",
            "3. (AB)^T = B^T * A^T:\n",
            "(AB)^T:\n",
            "[[23 51]\n",
            " [13 29]]\n",
            "B^T * A^T:\n",
            "[[23 51]\n",
            " [13 29]]\n",
            "\n",
            "Is (AB)^T equal to B^T * A^T? True\n"
          ]
        }
      ]
    },
    {
      "cell_type": "code",
      "source": [
        "#Solve the following system of Linear equation using Inverse Methods.\n",
        "\n",
        "# Coefficient matrix A\n",
        "A = np.array([[2, -3, 1], [1, -1, 2], [3, 1, -1]])\n",
        "\n",
        "# Result matrix B\n",
        "B = np.array([-1, -3, 9])\n",
        "\n",
        "# Solve for X using the inverse method\n",
        "A_inv = np.linalg.inv(A)\n",
        "X = np.dot(A_inv, B)\n",
        "\n",
        "print(\"\\nSolution for the linear system of equations:\")\n",
        "print(\"x =\", X[0], \", y =\", X[1], \", z =\", X[2])"
      ],
      "metadata": {
        "colab": {
          "base_uri": "https://localhost:8080/"
        },
        "id": "o_k2LY_HRr7B",
        "outputId": "5eee3db8-85a1-4188-b0ba-bdb583cbae09"
      },
      "execution_count": 34,
      "outputs": [
        {
          "output_type": "stream",
          "name": "stdout",
          "text": [
            "\n",
            "Solution for the linear system of equations:\n",
            "x = 2.0 , y = 1.0 , z = -2.0\n"
          ]
        }
      ]
    },
    {
      "cell_type": "code",
      "source": [
        "# Solve using np.linalg.solve\n",
        "X_alt = np.linalg.solve(A, B)\n",
        "\n",
        "print(\"\\nSolution using np.linalg.solve:\")\n",
        "print(\"x =\", X_alt[0], \", y =\", X_alt[1], \", z =\", X_alt[2])"
      ],
      "metadata": {
        "colab": {
          "base_uri": "https://localhost:8080/"
        },
        "id": "a4aksumoRz4m",
        "outputId": "8971963e-f920-4271-c9e1-ce16c3d4fce4"
      },
      "execution_count": 35,
      "outputs": [
        {
          "output_type": "stream",
          "name": "stdout",
          "text": [
            "\n",
            "Solution using np.linalg.solve:\n",
            "x = 2.0 , y = 1.0000000000000002 , z = -2.0\n"
          ]
        }
      ]
    },
    {
      "cell_type": "markdown",
      "source": [
        "1. Element-wise Addition:"
      ],
      "metadata": {
        "id": "VzePb3pqR9iv"
      }
    },
    {
      "cell_type": "code",
      "source": [
        "import time\n",
        "import numpy as np\n",
        "\n",
        "# Create two lists of size 1,000,000 with random numbers for element-wise addition\n",
        "list1 = [i for i in range(1, 1000001)]\n",
        "list2 = [i for i in range(1, 1000001)]\n",
        "\n",
        "# Measure the time taken for element-wise addition using Python lists\n",
        "start_time = time.time()\n",
        "\n",
        "result_list = [list1[i] + list2[i] for i in range(1000000)]\n",
        "end_time = time.time()\n",
        "print(\"Time taken using Python lists: {:.6f} seconds\".format(end_time - start_time))"
      ],
      "metadata": {
        "colab": {
          "base_uri": "https://localhost:8080/"
        },
        "id": "Ik99CuiJSR_L",
        "outputId": "3fafa3a7-e4be-4942-94fe-2315796123f2"
      },
      "execution_count": 36,
      "outputs": [
        {
          "output_type": "stream",
          "name": "stdout",
          "text": [
            "Time taken using Python lists: 0.098719 seconds\n"
          ]
        }
      ]
    },
    {
      "cell_type": "code",
      "source": [
        "# Create two numpy arrays of size 1,000,000\n",
        "array1 = np.arange(1, 1000001)\n",
        "array2 = np.arange(1, 1000001)\n",
        "\n",
        "# Measure the time taken for element-wise addition using NumPy arrays\n",
        "start_time = time.time()\n",
        "\n",
        "result_array = array1 + array2\n",
        "\n",
        "end_time = time.time()\n",
        "print(\"Time taken using NumPy arrays: {:.6f} seconds\".format(end_time - start_time))\n"
      ],
      "metadata": {
        "colab": {
          "base_uri": "https://localhost:8080/"
        },
        "id": "JieelkgwSqDl",
        "outputId": "f6ee2d30-9664-4306-9a9b-e4e77ff8af5e"
      },
      "execution_count": 37,
      "outputs": [
        {
          "output_type": "stream",
          "name": "stdout",
          "text": [
            "Time taken using NumPy arrays: 0.013148 seconds\n"
          ]
        }
      ]
    },
    {
      "cell_type": "markdown",
      "source": [
        "2. Element-wise Multiplication"
      ],
      "metadata": {
        "id": "GDewTYngSKSj"
      }
    },
    {
      "cell_type": "code",
      "source": [
        "# Create two lists of size 1,000,000 with random numbers for element-wise multiplication\n",
        "list1 = [i for i in range(1, 1000001)]\n",
        "list2 = [i for i in range(1, 1000001)]\n",
        "\n",
        "# Measure the time taken for element-wise multiplication using Python lists\n",
        "start_time = time.time()\n",
        "result_list = [list1[i] * list2[i] for i in range(1000000)]\n",
        "end_time = time.time()\n",
        "print(\"Time taken using Python lists: {:.6f} seconds\".format(end_time - start_time))"
      ],
      "metadata": {
        "colab": {
          "base_uri": "https://localhost:8080/"
        },
        "id": "FEMQCDYyS1b1",
        "outputId": "c8cd25c7-272e-405d-cf21-cef942b3e590"
      },
      "execution_count": 38,
      "outputs": [
        {
          "output_type": "stream",
          "name": "stdout",
          "text": [
            "Time taken using Python lists: 0.118862 seconds\n"
          ]
        }
      ]
    },
    {
      "cell_type": "code",
      "source": [
        "# Create two numpy arrays of size 1,000,000\n",
        "array1 = np.arange(1, 1000001)\n",
        "array2 = np.arange(1, 1000001)\n",
        "\n",
        "# Measure the time taken for element-wise multiplication using NumPy arrays\n",
        "start_time = time.time()\n",
        "result_array = array1 * array2\n",
        "end_time = time.time()\n",
        "print(\"Time taken using NumPy arrays: {:.6f} seconds\".format(end_time - start_time))\n"
      ],
      "metadata": {
        "colab": {
          "base_uri": "https://localhost:8080/"
        },
        "id": "dht1bYbeTrbS",
        "outputId": "0ef607af-e600-4979-8bd5-5f1ebefbf0f4"
      },
      "execution_count": 39,
      "outputs": [
        {
          "output_type": "stream",
          "name": "stdout",
          "text": [
            "Time taken using NumPy arrays: 0.004797 seconds\n"
          ]
        }
      ]
    },
    {
      "cell_type": "markdown",
      "source": [
        "3. Dot Product"
      ],
      "metadata": {
        "id": "3FgbaiAdSMdg"
      }
    },
    {
      "cell_type": "code",
      "source": [
        "# Create two lists of size 1,000,000 with random numbers for dot product calculation\n",
        "list1 = [i for i in range(1, 1000001)]\n",
        "list2 = [i for i in range(1, 1000001)]\n",
        "\n",
        "# Measure the time taken for dot product using Python lists\n",
        "start_time = time.time()\n",
        "\n",
        "# Compute dot product using Python lists\n",
        "dot_product_list = sum(list1[i] * list2[i] for i in range(1000000))\n",
        "end_time = time.time()\n",
        "print(\"Time taken using Python lists: {:.6f} seconds\".format(end_time - start_time))"
      ],
      "metadata": {
        "colab": {
          "base_uri": "https://localhost:8080/"
        },
        "id": "H_JJL9PsUUAp",
        "outputId": "1cc4919d-0bb1-44c2-8bec-b728e6cec1de"
      },
      "execution_count": 40,
      "outputs": [
        {
          "output_type": "stream",
          "name": "stdout",
          "text": [
            "Time taken using Python lists: 0.135771 seconds\n"
          ]
        }
      ]
    },
    {
      "cell_type": "code",
      "source": [
        "# Create two numpy arrays of size 1,000,000\n",
        "array1 = np.arange(1, 1000001)\n",
        "array2 = np.arange(1, 1000001)\n",
        "\n",
        "# Measure the time taken for dot product using NumPy arrays\n",
        "start_time = time.time()\n",
        "# Compute dot product using NumPy arrays\n",
        "dot_product_array = np.dot(array1, array2)\n",
        "end_time = time.time()\n",
        "print(\"Time taken using NumPy arrays: {:.6f} seconds\".format(end_time - start_time))\n"
      ],
      "metadata": {
        "colab": {
          "base_uri": "https://localhost:8080/"
        },
        "id": "xk5AcADkUW-w",
        "outputId": "97b9cc36-4d22-4718-dbc5-1709f9be78f8"
      },
      "execution_count": 41,
      "outputs": [
        {
          "output_type": "stream",
          "name": "stdout",
          "text": [
            "Time taken using NumPy arrays: 0.002422 seconds\n"
          ]
        }
      ]
    },
    {
      "cell_type": "markdown",
      "source": [
        "4. Matrix Multiplication"
      ],
      "metadata": {
        "id": "eu5eqeSxSOxX"
      }
    },
    {
      "cell_type": "code",
      "source": [
        "# Create two 1000x1000 matrices using Python lists\n",
        "matrix1 = [[i + j for j in range(1000)] for i in range(1000)]\n",
        "matrix2 = [[i - j for j in range(1000)] for i in range(1000)]\n",
        "\n",
        "# Matrix multiplication using Python lists\n",
        "start_time = time.time()\n",
        "result_list = [[sum(matrix1[i][k] * matrix2[k][j] for k in range(1000)) for j in range(1000)] for i in range(1000)]\n",
        "end_time = time.time()\n",
        "print(\"Time taken using Python lists:\", end_time - start_time, \"seconds\")"
      ],
      "metadata": {
        "colab": {
          "base_uri": "https://localhost:8080/"
        },
        "id": "RX6bcHsyUpUT",
        "outputId": "8c19f232-d5b8-4313-a406-2100a2407c33"
      },
      "execution_count": 44,
      "outputs": [
        {
          "output_type": "stream",
          "name": "stdout",
          "text": [
            "Time taken using Python lists: 198.30599761009216 seconds\n"
          ]
        }
      ]
    },
    {
      "cell_type": "code",
      "source": [
        "# Create the same 1000x1000 matrices using NumPy arrays\n",
        "np_matrix1 = np.array(matrix1)\n",
        "np_matrix2 = np.array(matrix2)\n",
        "\n",
        "# Matrix multiplication using NumPy arrays\n",
        "start_time = time.time()\n",
        "result_numpy = np.dot(np_matrix1, np_matrix2)\n",
        "end_time = time.time()\n",
        "print(\"Time taken using Numpy arrays:\", end_time - start_time, \"seconds\")"
      ],
      "metadata": {
        "colab": {
          "base_uri": "https://localhost:8080/"
        },
        "id": "X0tCjATwVlpS",
        "outputId": "0d559e61-2fcd-4fb1-f47f-92258f5b2178"
      },
      "execution_count": 45,
      "outputs": [
        {
          "output_type": "stream",
          "name": "stdout",
          "text": [
            "Time taken using Numpy arrays: 3.0050179958343506 seconds\n"
          ]
        }
      ]
    }
  ]
}